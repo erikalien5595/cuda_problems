{
 "cells": [
  {
   "cell_type": "markdown",
   "metadata": {},
   "source": [
    "# win10+cuda9.1+cudnn+Tensorflow（GPU）安装中的一些问题"
   ]
  },
  {
   "cell_type": "markdown",
   "metadata": {},
   "source": [
    "主要的安装过程参见 https://blog.csdn.net/walker_Tjj/article/details/79966449 ，\n",
    "https://blog.csdn.net/sb19931201/article/details/53648615\n",
    "本文主要涉及到一些网上其他教程中很少涉及的问题，或者没有提到但是本人安装过程中遇到的问题。"
   ]
  },
  {
   "cell_type": "markdown",
   "metadata": {},
   "source": [
    "## 1.确定你的GPU是否支持CUDA"
   ]
  },
  {
   "cell_type": "markdown",
   "metadata": {},
   "source": [
    "确定你的GPU是否支持CUDA，参见 https://developer.nvidia.com/cuda-gpus ，Compute Capability"
   ]
  },
  {
   "cell_type": "markdown",
   "metadata": {},
   "source": [
    "## 2.安装CUDA失败"
   ]
  },
  {
   "cell_type": "markdown",
   "metadata": {},
   "source": [
    "安装CUDA失败，显示类似如下画面："
   ]
  },
  {
   "cell_type": "markdown",
   "metadata": {},
   "source": [
    "<img style=\"float: left;\" src=\"http://imgsrc.baidu.com/forum/w%3D580/sign=87f0f1fa3fd12f2ece05ae687fc2d5ff/3134e91190ef76c65bf36b069416fdfaae5167e0.jpg\" width=\"80%\">"
   ]
  },
  {
   "cell_type": "markdown",
   "metadata": {},
   "source": [
    "解决办法：请将系统中nvidia相关的程序全部卸载并重启，将相关的文件夹全部删除，然后按win+R，输入regedit，找到“计算机\\HKEY_LOCAL_MACHINE\\SOFTWARE”，将该目录下的NVIDIA相关的子目录全部删除，重启后再安装CUDA即可。"
   ]
  },
  {
   "cell_type": "markdown",
   "metadata": {},
   "source": [
    "## 3. CUDA安装完，在命令行中输入nvcc -V测试也成功了，但是deviceQuery和bandwidth测试不成功。"
   ]
  },
  {
   "cell_type": "markdown",
   "metadata": {},
   "source": [
    "解决办法：将命令deviceQuery变为.\\deviceQuery即可，bandwidth同理，原因参见 https://www.pstips.net/powershell-create-and-start-scripts.html"
   ]
  },
  {
   "cell_type": "markdown",
   "metadata": {},
   "source": [
    "## 4.CUDA安装成功，在python脚本中也指定了使用哪一块gpu，tensorflow仍然用cpu计算。"
   ]
  },
  {
   "cell_type": "markdown",
   "metadata": {},
   "source": [
    "这个是我遇到的问题，后来找到的问题原因是我同时安装了支持cpu和gpu两个版本的tensorflow，因此我把相关的packages全部卸载了之后，重新用命令行输入pip install tensorfow-gpu。\n",
    "在python中指定gpu之后，最终使用的是gpu进行计算。\n",
    "若要实时查看gpu的工作状态，请参考 http://www.luozhipeng.com/?p=1239 ，也可以将目录“C:\\Program Files\\NVIDIA Corporation\\NVSMI”添加到环境变量，下次在命令行输入nvidia-smi时就不需要进入该目录了。\n",
    "具体信息的含义参见 https://blog.csdn.net/sallyxyl1993/article/details/62220424"
   ]
  }
 ],
 "metadata": {
  "kernelspec": {
   "display_name": "Python 3",
   "language": "python",
   "name": "python3"
  },
  "language_info": {
   "codemirror_mode": {
    "name": "ipython",
    "version": 3
   },
   "file_extension": ".py",
   "mimetype": "text/x-python",
   "name": "python",
   "nbconvert_exporter": "python",
   "pygments_lexer": "ipython3",
   "version": "3.6.3"
  }
 },
 "nbformat": 4,
 "nbformat_minor": 2
}
